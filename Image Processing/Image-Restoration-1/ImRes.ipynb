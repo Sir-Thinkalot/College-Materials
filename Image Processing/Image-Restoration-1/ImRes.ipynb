{
  "nbformat": 4,
  "nbformat_minor": 0,
  "metadata": {
    "colab": {
      "name": "Untitled1.ipynb",
      "provenance": [],
      "authorship_tag": "ABX9TyPwHGkd3hdHB0YeBGrB/tsa",
      "include_colab_link": true
    },
    "kernelspec": {
      "name": "python3",
      "display_name": "Python 3"
    },
    "language_info": {
      "name": "python"
    }
  },
  "cells": [
    {
      "cell_type": "markdown",
      "metadata": {
        "id": "view-in-github",
        "colab_type": "text"
      },
      "source": [
        "<a href=\"https://colab.research.google.com/github/Sir-Thinkalot/College-Materials/blob/main/Image%20Processing/Image-Restoration-1/ImRes.ipynb\" target=\"_parent\"><img src=\"https://colab.research.google.com/assets/colab-badge.svg\" alt=\"Open In Colab\"/></a>"
      ]
    },
    {
      "cell_type": "code",
      "metadata": {
        "id": "LPW4hcFi9ihE"
      },
      "source": [
        "!git clone https://github.com/Sir-Thinkalot/College-Materials"
      ],
      "execution_count": null,
      "outputs": []
    },
    {
      "cell_type": "code",
      "metadata": {
        "id": "6kFhH-BDZgGZ"
      },
      "source": [
        "import imageio\n",
        "import numpy as np\n",
        "import scipy.ndimage as ndi\n",
        "import matplotlib.pyplot as plt\n",
        "  \n",
        "im1 = imageio.imread('/content/College-Materials/Image Processing/Image-Restoration-1/MRI Brain 1.jpg')\n",
        "fig, axes = plt.subplots(1,1, figsize=(20,10))\n",
        "axes.imshow(im1,cmap='gray')\n",
        "im1.shape"
      ],
      "execution_count": null,
      "outputs": []
    },
    {
      "cell_type": "code",
      "metadata": {
        "id": "EIHpiemKizpi"
      },
      "source": [
        "weights = np.full((5,5,3),1/(5*5*3))\n",
        "weights"
      ],
      "execution_count": null,
      "outputs": []
    },
    {
      "cell_type": "code",
      "metadata": {
        "id": "vwfhEK6bbAUn"
      },
      "source": [
        "#im1_filt = ndi.minimum_filter(im1,size=2)\n",
        "im1_filt = ndi.median_filter(im1,size=7)\n",
        "im1_filt1 = ndi.maximum_filter(im1_filt,size=2)\n",
        "im1_filt2 = ndi.convolve(im1_filt1,weights)\n",
        "fig, axes = plt.subplots(2,2, figsize=(20,20))\n",
        "axes[0,0].imshow(im1,cmap='gray')\n",
        "axes[0,1].imshow(im1_filt,cmap='gray')\n",
        "axes[1,0].imshow(im1_filt1,cmap='gray')\n",
        "axes[1,1].imshow(im1_filt2,cmap='gray')\n",
        "plt.show()"
      ],
      "execution_count": null,
      "outputs": []
    },
    {
      "cell_type": "code",
      "metadata": {
        "id": "3PK3mnnOloSj"
      },
      "source": [
        "im1_mean = np.mean(im1_filt2)           #Mean\n",
        "im1_std = np.std(im1_filt2)             #Standard Deviation\n",
        "im1_ENL = np.square(im1_mean/im1_std)   #Equivalent Number of Looks\n",
        "[im1_mean,im1_std,im1_ENL]"
      ],
      "execution_count": null,
      "outputs": []
    },
    {
      "cell_type": "code",
      "metadata": {
        "id": "EQKf1rItV75f"
      },
      "source": [
        "im1_mean = np.mean(im1)           #Mean\n",
        "im1_std = np.std(im1)             #Standard Deviation\n",
        "im1_ENL = np.square(im1_mean/im1_std)   #Equivalent Number of Looks\n",
        "[im1_mean,im1_std,im1_ENL]"
      ],
      "execution_count": null,
      "outputs": []
    },
    {
      "cell_type": "code",
      "metadata": {
        "id": "dgpDTPJvnJYq"
      },
      "source": [
        "im1_MSE = np.square(np.subtract(im1,im1_filt2)).mean() #Mean Squared Error\n",
        "im1_PSNR = 10*np.log10(np.square(255)/im1_MSE)         #Peak Signal-to-Noise Ratio\n",
        "[im1_MSE,im1_PSNR]"
      ],
      "execution_count": null,
      "outputs": []
    },
    {
      "cell_type": "code",
      "metadata": {
        "id": "EzoJQOfasZCO"
      },
      "source": [
        "im1_Contrast = np.absolute(np.mean(im1)-np.mean(im1_filt2))               #Contrast\n",
        "im1_Noise = np.sqrt(np.square(np.std(im1))+np.square(np.std(im1_filt2)))  #Noise\n",
        "im1_CNR = im1_Contrast/im1_Noise                                          #Contrast to Noise Ratio\n",
        "im1_CNR"
      ],
      "execution_count": null,
      "outputs": []
    },
    {
      "cell_type": "code",
      "metadata": {
        "id": "hLNftFfOhe_p"
      },
      "source": [
        "im2 = imageio.imread('/content/College-Materials/Image Processing/Image-Restoration-1/MRI Brain 2.jpg')\n",
        "fig, axes = plt.subplots(1,1, figsize=(20,10))\n",
        "axes.imshow(im2,cmap='gray')\n",
        "im2.shape"
      ],
      "execution_count": null,
      "outputs": []
    },
    {
      "cell_type": "code",
      "metadata": {
        "id": "t9t5lALhhtW6"
      },
      "source": [
        "im2_filt = ndi.percentile_filter(im2,25,size=3)\n",
        "im2_filt1 = ndi.median_filter(im2_filt,size=3)\n",
        "im2_filt2 = ndi.minimum_filter(im2_filt1,size=2)\n",
        "fig, axes = plt.subplots(2,2, figsize=(20,20))\n",
        "axes[0,0].imshow(im2,cmap='gray')\n",
        "axes[0,1].imshow(im2_filt,cmap='gray')\n",
        "axes[1,0].imshow(im2_filt1,cmap='gray')\n",
        "axes[1,1].imshow(im2_filt2,cmap='gray')\n",
        "plt.show()"
      ],
      "execution_count": null,
      "outputs": []
    },
    {
      "cell_type": "code",
      "metadata": {
        "id": "pVaNrAMTvhLs"
      },
      "source": [
        "im2_mean = np.mean(im2_filt2)           #Mean\n",
        "im2_std = np.std(im2_filt2)             #Standard Deviation\n",
        "im2_ENL = np.square(im2_mean/im2_std)   #Equivalent Number of Looks\n",
        "[im2_mean,im2_std,im2_ENL]"
      ],
      "execution_count": null,
      "outputs": []
    },
    {
      "cell_type": "code",
      "metadata": {
        "id": "fHpbx8ygXNVk"
      },
      "source": [
        "im2_mean = np.mean(im2)           #Mean\n",
        "im2_std = np.std(im2)             #Standard Deviation\n",
        "im2_ENL = np.square(im2_mean/im2_std)   #Equivalent Number of Looks\n",
        "[im2_mean,im2_std,im2_ENL]"
      ],
      "execution_count": null,
      "outputs": []
    },
    {
      "cell_type": "code",
      "metadata": {
        "id": "5cgFWsBIvhWi"
      },
      "source": [
        "im2_MSE = np.square(np.subtract(im2,im2_filt1)).mean() #Mean Squared Error\n",
        "im2_PSNR = 10*np.log10(np.square(255)/im2_MSE)         #Peak Signal-to-Noise Ratio\n",
        "[im2_MSE,im2_PSNR]"
      ],
      "execution_count": null,
      "outputs": []
    },
    {
      "cell_type": "code",
      "metadata": {
        "id": "HV85XSvIvhey"
      },
      "source": [
        "im2_Contrast = np.absolute(np.mean(im2)-np.mean(im2_filt2))               #Contrast\n",
        "im2_Noise = np.sqrt(np.square(np.std(im2))+np.square(np.std(im2_filt2)))  #Noise\n",
        "im2_CNR = im2_Contrast/im2_Noise                                          #Contrast to Noise Ratio\n",
        "im2_CNR"
      ],
      "execution_count": null,
      "outputs": []
    }
  ]
}